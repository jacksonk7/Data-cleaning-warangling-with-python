{
  "nbformat": 4,
  "nbformat_minor": 0,
  "metadata": {
    "colab": {
      "name": "Data-cleaning\\wrangling-Beauty-Co.ipynb",
      "provenance": [],
      "collapsed_sections": [],
      "authorship_tag": "ABX9TyMPeD+204kzruRc9/wji9rZ",
      "include_colab_link": true
    },
    "kernelspec": {
      "name": "python3",
      "display_name": "Python 3"
    },
    "language_info": {
      "name": "python"
    }
  },
  "cells": [
    {
      "cell_type": "markdown",
      "metadata": {
        "id": "view-in-github",
        "colab_type": "text"
      },
      "source": [
        "<a href=\"https://colab.research.google.com/github/jacksonnunesds/Data-cleaning-warangling-with-python/blob/main/Data_cleaning_wrangling_Beauty_Co.ipynb\" target=\"_parent\"><img src=\"https://colab.research.google.com/assets/colab-badge.svg\" alt=\"Open In Colab\"/></a>"
      ]
    },
    {
      "cell_type": "markdown",
      "source": [
        "#**1.0 O Entendimento do Negocio**\n",
        "\n",
        "##**1.1 Apresentação**\n",
        "A Beauty Co, uma loja online de cosméticos, contratou seus serviços de\n",
        "verificar as marcas mais vendidas e quais eventos mais ocorrem em\n",
        "seu site.\n",
        "O gerente de vendas te passou uma base com o histórico de\n",
        "interações no site referente ao período entre nov de 2019.\n",
        "\n",
        "##**1.2 Objetivo**\n",
        "● Tratar o dataset (Data cleaning/Wrangling)\n",
        "\n",
        "● Eventos ordenados que mais ocorrem no site (Gráfico)\n",
        "\n",
        "● Quais são as 5 marcas mais vendidas (Gráfico)\n",
        "\n",
        "##**1.3 Dicionário dos dados**\n",
        "Breve descrição das features disponíveis no dataset:\n",
        "\n",
        "**event_time** - Horário em que o evento aconteceu.\n",
        "\n",
        "**event_type** - Tipo do evento que ocorreu\n",
        "\n",
        "**product_id** - ID do Produto.\n",
        "\n",
        "**category_id** - ID da categoria* do Produto.\n",
        "\n",
        "**category_code** - Taxonomia da categoria* do produto (codinome). Presente\n",
        "para categorias significativas (normalmente), mas ignorado para alguns tipos\n",
        "de acessórios\n",
        "\n",
        "**brand** - Marca do Produto.\n",
        "\n"
      ],
      "metadata": {
        "id": "lGz8jN5z0OTt"
      }
    },
    {
      "cell_type": "markdown",
      "source": [
        "#2.0 A Coleta dos dados"
      ],
      "metadata": {
        "id": "LWyTzNge1-Q7"
      }
    },
    {
      "cell_type": "code",
      "execution_count": null,
      "metadata": {
        "id": "qos-HXLCioXD"
      },
      "outputs": [],
      "source": [
        "# Importando as bibliotecas\n",
        "import pandas as pd\n",
        "import numpy as np\n",
        "import matplotlib.pyplot as plt\n",
        "import seaborn as sns\n"
      ]
    },
    {
      "cell_type": "code",
      "source": [
        "# Carregando o dataset\n",
        "df = pd.read_csv('/content/2019-Nov.csv')"
      ],
      "metadata": {
        "id": "-r19wO7CjdMg"
      },
      "execution_count": null,
      "outputs": []
    },
    {
      "cell_type": "code",
      "source": [
        "# Verificando as informações do dataset\n",
        "df.head()"
      ],
      "metadata": {
        "colab": {
          "base_uri": "https://localhost:8080/",
          "height": 424
        },
        "id": "2UhMs-tDsryM",
        "outputId": "5fb5e0d9-840c-4c70-b178-a9d22b067065"
      },
      "execution_count": null,
      "outputs": [
        {
          "output_type": "execute_result",
          "data": {
            "text/plain": [
              "                      event_time        event_type  product_id   category_id  \\\n",
              "0        2019-11-01 00:00:02 UTC              view   5802432.0  1.487580e+18   \n",
              "1        2019-11-01 00:00:09 UTC              cart   5844397.0  1.487580e+18   \n",
              "2        2019-11-01 00:00:10 UTC              view   5837166.0  1.783999e+18   \n",
              "3        2019-11-01 00:00:11 UTC              cart   5876812.0  1.487580e+18   \n",
              "4        2019-11-01 00:00:24 UTC  remove_from_cart   5826182.0  1.487580e+18   \n",
              "...                          ...               ...         ...           ...   \n",
              "3046380  2019-11-22 11:03:10 UTC          purchase   5779238.0  1.487580e+18   \n",
              "3046381  2019-11-22 11:03:10 UTC          purchase   5772302.0  1.602944e+18   \n",
              "3046382  2019-11-22 11:03:10 UTC          purchase   5772301.0  1.602944e+18   \n",
              "3046383  2019-11-22 11:03:10 UTC          purchase   5772290.0  1.602944e+18   \n",
              "3046384                 2019-11-               NaN         NaN           NaN   \n",
              "\n",
              "        category_code     brand  price      user_id  \\\n",
              "0                 NaN       NaN   0.32  562076640.0   \n",
              "1                 NaN       NaN   2.38  553329724.0   \n",
              "2                 NaN       pnb  22.22  556138645.0   \n",
              "3                 NaN  jessnail   3.16  564506666.0   \n",
              "4                 NaN       NaN   3.33  553329724.0   \n",
              "...               ...       ...    ...          ...   \n",
              "3046380           NaN       NaN   4.05  574830842.0   \n",
              "3046381           NaN   grattol   4.43  574830842.0   \n",
              "3046382           NaN   grattol   4.29  574830842.0   \n",
              "3046383           NaN   grattol   5.60  574830842.0   \n",
              "3046384           NaN       NaN    NaN          NaN   \n",
              "\n",
              "                                 user_session  \n",
              "0        09fafd6c-6c99-46b1-834f-33527f4de241  \n",
              "1        2067216c-31b5-455d-a1cc-af0575a34ffb  \n",
              "2        57ed222e-a54a-4907-9944-5a875c2d7f4f  \n",
              "3        186c1951-8052-4b37-adce-dd9644b1d5f7  \n",
              "4        2067216c-31b5-455d-a1cc-af0575a34ffb  \n",
              "...                                       ...  \n",
              "3046380  752946f2-98d4-40fa-a2aa-e819f48485b9  \n",
              "3046381  752946f2-98d4-40fa-a2aa-e819f48485b9  \n",
              "3046382  752946f2-98d4-40fa-a2aa-e819f48485b9  \n",
              "3046383  752946f2-98d4-40fa-a2aa-e819f48485b9  \n",
              "3046384                                   NaN  \n",
              "\n",
              "[3046385 rows x 9 columns]"
            ],
            "text/html": [
              "\n",
              "  <div id=\"df-cc86cc6b-8ebf-45d3-af92-d1d4a958dfe4\">\n",
              "    <div class=\"colab-df-container\">\n",
              "      <div>\n",
              "<style scoped>\n",
              "    .dataframe tbody tr th:only-of-type {\n",
              "        vertical-align: middle;\n",
              "    }\n",
              "\n",
              "    .dataframe tbody tr th {\n",
              "        vertical-align: top;\n",
              "    }\n",
              "\n",
              "    .dataframe thead th {\n",
              "        text-align: right;\n",
              "    }\n",
              "</style>\n",
              "<table border=\"1\" class=\"dataframe\">\n",
              "  <thead>\n",
              "    <tr style=\"text-align: right;\">\n",
              "      <th></th>\n",
              "      <th>event_time</th>\n",
              "      <th>event_type</th>\n",
              "      <th>product_id</th>\n",
              "      <th>category_id</th>\n",
              "      <th>category_code</th>\n",
              "      <th>brand</th>\n",
              "      <th>price</th>\n",
              "      <th>user_id</th>\n",
              "      <th>user_session</th>\n",
              "    </tr>\n",
              "  </thead>\n",
              "  <tbody>\n",
              "    <tr>\n",
              "      <th>0</th>\n",
              "      <td>2019-11-01 00:00:02 UTC</td>\n",
              "      <td>view</td>\n",
              "      <td>5802432.0</td>\n",
              "      <td>1.487580e+18</td>\n",
              "      <td>NaN</td>\n",
              "      <td>NaN</td>\n",
              "      <td>0.32</td>\n",
              "      <td>562076640.0</td>\n",
              "      <td>09fafd6c-6c99-46b1-834f-33527f4de241</td>\n",
              "    </tr>\n",
              "    <tr>\n",
              "      <th>1</th>\n",
              "      <td>2019-11-01 00:00:09 UTC</td>\n",
              "      <td>cart</td>\n",
              "      <td>5844397.0</td>\n",
              "      <td>1.487580e+18</td>\n",
              "      <td>NaN</td>\n",
              "      <td>NaN</td>\n",
              "      <td>2.38</td>\n",
              "      <td>553329724.0</td>\n",
              "      <td>2067216c-31b5-455d-a1cc-af0575a34ffb</td>\n",
              "    </tr>\n",
              "    <tr>\n",
              "      <th>2</th>\n",
              "      <td>2019-11-01 00:00:10 UTC</td>\n",
              "      <td>view</td>\n",
              "      <td>5837166.0</td>\n",
              "      <td>1.783999e+18</td>\n",
              "      <td>NaN</td>\n",
              "      <td>pnb</td>\n",
              "      <td>22.22</td>\n",
              "      <td>556138645.0</td>\n",
              "      <td>57ed222e-a54a-4907-9944-5a875c2d7f4f</td>\n",
              "    </tr>\n",
              "    <tr>\n",
              "      <th>3</th>\n",
              "      <td>2019-11-01 00:00:11 UTC</td>\n",
              "      <td>cart</td>\n",
              "      <td>5876812.0</td>\n",
              "      <td>1.487580e+18</td>\n",
              "      <td>NaN</td>\n",
              "      <td>jessnail</td>\n",
              "      <td>3.16</td>\n",
              "      <td>564506666.0</td>\n",
              "      <td>186c1951-8052-4b37-adce-dd9644b1d5f7</td>\n",
              "    </tr>\n",
              "    <tr>\n",
              "      <th>4</th>\n",
              "      <td>2019-11-01 00:00:24 UTC</td>\n",
              "      <td>remove_from_cart</td>\n",
              "      <td>5826182.0</td>\n",
              "      <td>1.487580e+18</td>\n",
              "      <td>NaN</td>\n",
              "      <td>NaN</td>\n",
              "      <td>3.33</td>\n",
              "      <td>553329724.0</td>\n",
              "      <td>2067216c-31b5-455d-a1cc-af0575a34ffb</td>\n",
              "    </tr>\n",
              "    <tr>\n",
              "      <th>...</th>\n",
              "      <td>...</td>\n",
              "      <td>...</td>\n",
              "      <td>...</td>\n",
              "      <td>...</td>\n",
              "      <td>...</td>\n",
              "      <td>...</td>\n",
              "      <td>...</td>\n",
              "      <td>...</td>\n",
              "      <td>...</td>\n",
              "    </tr>\n",
              "    <tr>\n",
              "      <th>3046380</th>\n",
              "      <td>2019-11-22 11:03:10 UTC</td>\n",
              "      <td>purchase</td>\n",
              "      <td>5779238.0</td>\n",
              "      <td>1.487580e+18</td>\n",
              "      <td>NaN</td>\n",
              "      <td>NaN</td>\n",
              "      <td>4.05</td>\n",
              "      <td>574830842.0</td>\n",
              "      <td>752946f2-98d4-40fa-a2aa-e819f48485b9</td>\n",
              "    </tr>\n",
              "    <tr>\n",
              "      <th>3046381</th>\n",
              "      <td>2019-11-22 11:03:10 UTC</td>\n",
              "      <td>purchase</td>\n",
              "      <td>5772302.0</td>\n",
              "      <td>1.602944e+18</td>\n",
              "      <td>NaN</td>\n",
              "      <td>grattol</td>\n",
              "      <td>4.43</td>\n",
              "      <td>574830842.0</td>\n",
              "      <td>752946f2-98d4-40fa-a2aa-e819f48485b9</td>\n",
              "    </tr>\n",
              "    <tr>\n",
              "      <th>3046382</th>\n",
              "      <td>2019-11-22 11:03:10 UTC</td>\n",
              "      <td>purchase</td>\n",
              "      <td>5772301.0</td>\n",
              "      <td>1.602944e+18</td>\n",
              "      <td>NaN</td>\n",
              "      <td>grattol</td>\n",
              "      <td>4.29</td>\n",
              "      <td>574830842.0</td>\n",
              "      <td>752946f2-98d4-40fa-a2aa-e819f48485b9</td>\n",
              "    </tr>\n",
              "    <tr>\n",
              "      <th>3046383</th>\n",
              "      <td>2019-11-22 11:03:10 UTC</td>\n",
              "      <td>purchase</td>\n",
              "      <td>5772290.0</td>\n",
              "      <td>1.602944e+18</td>\n",
              "      <td>NaN</td>\n",
              "      <td>grattol</td>\n",
              "      <td>5.60</td>\n",
              "      <td>574830842.0</td>\n",
              "      <td>752946f2-98d4-40fa-a2aa-e819f48485b9</td>\n",
              "    </tr>\n",
              "    <tr>\n",
              "      <th>3046384</th>\n",
              "      <td>2019-11-</td>\n",
              "      <td>NaN</td>\n",
              "      <td>NaN</td>\n",
              "      <td>NaN</td>\n",
              "      <td>NaN</td>\n",
              "      <td>NaN</td>\n",
              "      <td>NaN</td>\n",
              "      <td>NaN</td>\n",
              "      <td>NaN</td>\n",
              "    </tr>\n",
              "  </tbody>\n",
              "</table>\n",
              "<p>3046385 rows × 9 columns</p>\n",
              "</div>\n",
              "      <button class=\"colab-df-convert\" onclick=\"convertToInteractive('df-cc86cc6b-8ebf-45d3-af92-d1d4a958dfe4')\"\n",
              "              title=\"Convert this dataframe to an interactive table.\"\n",
              "              style=\"display:none;\">\n",
              "        \n",
              "  <svg xmlns=\"http://www.w3.org/2000/svg\" height=\"24px\"viewBox=\"0 0 24 24\"\n",
              "       width=\"24px\">\n",
              "    <path d=\"M0 0h24v24H0V0z\" fill=\"none\"/>\n",
              "    <path d=\"M18.56 5.44l.94 2.06.94-2.06 2.06-.94-2.06-.94-.94-2.06-.94 2.06-2.06.94zm-11 1L8.5 8.5l.94-2.06 2.06-.94-2.06-.94L8.5 2.5l-.94 2.06-2.06.94zm10 10l.94 2.06.94-2.06 2.06-.94-2.06-.94-.94-2.06-.94 2.06-2.06.94z\"/><path d=\"M17.41 7.96l-1.37-1.37c-.4-.4-.92-.59-1.43-.59-.52 0-1.04.2-1.43.59L10.3 9.45l-7.72 7.72c-.78.78-.78 2.05 0 2.83L4 21.41c.39.39.9.59 1.41.59.51 0 1.02-.2 1.41-.59l7.78-7.78 2.81-2.81c.8-.78.8-2.07 0-2.86zM5.41 20L4 18.59l7.72-7.72 1.47 1.35L5.41 20z\"/>\n",
              "  </svg>\n",
              "      </button>\n",
              "      \n",
              "  <style>\n",
              "    .colab-df-container {\n",
              "      display:flex;\n",
              "      flex-wrap:wrap;\n",
              "      gap: 12px;\n",
              "    }\n",
              "\n",
              "    .colab-df-convert {\n",
              "      background-color: #E8F0FE;\n",
              "      border: none;\n",
              "      border-radius: 50%;\n",
              "      cursor: pointer;\n",
              "      display: none;\n",
              "      fill: #1967D2;\n",
              "      height: 32px;\n",
              "      padding: 0 0 0 0;\n",
              "      width: 32px;\n",
              "    }\n",
              "\n",
              "    .colab-df-convert:hover {\n",
              "      background-color: #E2EBFA;\n",
              "      box-shadow: 0px 1px 2px rgba(60, 64, 67, 0.3), 0px 1px 3px 1px rgba(60, 64, 67, 0.15);\n",
              "      fill: #174EA6;\n",
              "    }\n",
              "\n",
              "    [theme=dark] .colab-df-convert {\n",
              "      background-color: #3B4455;\n",
              "      fill: #D2E3FC;\n",
              "    }\n",
              "\n",
              "    [theme=dark] .colab-df-convert:hover {\n",
              "      background-color: #434B5C;\n",
              "      box-shadow: 0px 1px 3px 1px rgba(0, 0, 0, 0.15);\n",
              "      filter: drop-shadow(0px 1px 2px rgba(0, 0, 0, 0.3));\n",
              "      fill: #FFFFFF;\n",
              "    }\n",
              "  </style>\n",
              "\n",
              "      <script>\n",
              "        const buttonEl =\n",
              "          document.querySelector('#df-cc86cc6b-8ebf-45d3-af92-d1d4a958dfe4 button.colab-df-convert');\n",
              "        buttonEl.style.display =\n",
              "          google.colab.kernel.accessAllowed ? 'block' : 'none';\n",
              "\n",
              "        async function convertToInteractive(key) {\n",
              "          const element = document.querySelector('#df-cc86cc6b-8ebf-45d3-af92-d1d4a958dfe4');\n",
              "          const dataTable =\n",
              "            await google.colab.kernel.invokeFunction('convertToInteractive',\n",
              "                                                     [key], {});\n",
              "          if (!dataTable) return;\n",
              "\n",
              "          const docLinkHtml = 'Like what you see? Visit the ' +\n",
              "            '<a target=\"_blank\" href=https://colab.research.google.com/notebooks/data_table.ipynb>data table notebook</a>'\n",
              "            + ' to learn more about interactive tables.';\n",
              "          element.innerHTML = '';\n",
              "          dataTable['output_type'] = 'display_data';\n",
              "          await google.colab.output.renderOutput(dataTable, element);\n",
              "          const docLink = document.createElement('div');\n",
              "          docLink.innerHTML = docLinkHtml;\n",
              "          element.appendChild(docLink);\n",
              "        }\n",
              "      </script>\n",
              "    </div>\n",
              "  </div>\n",
              "  "
            ]
          },
          "metadata": {},
          "execution_count": 19
        }
      ]
    },
    {
      "cell_type": "code",
      "source": [
        "#O Float mostrará 5 casas decimais a mais\n",
        "pd.set_option('display.float_format', lambda x: '%.5f' % x)"
      ],
      "metadata": {
        "id": "U23YtFaSvXfR"
      },
      "execution_count": null,
      "outputs": []
    },
    {
      "cell_type": "code",
      "source": [
        "\n",
        "df.describe(include=object)"
      ],
      "metadata": {
        "colab": {
          "base_uri": "https://localhost:8080/",
          "height": 300
        },
        "id": "w9NrNMgkCqcU",
        "outputId": "6b84757f-34eb-4a3a-86a4-ae5e87393331"
      },
      "execution_count": null,
      "outputs": [
        {
          "output_type": "execute_result",
          "data": {
            "text/plain": [
              "         product_id   category_id         price       user_id\n",
              "count  2.885672e+06  2.885672e+06  2.885672e+06  2.885672e+06\n",
              "mean   5.468771e+06  1.548688e+18  8.575782e+00  5.059585e+08\n",
              "std    1.324060e+06  1.625181e+17  1.963559e+01  8.491599e+07\n",
              "min    3.752000e+03  1.487580e+18 -7.937000e+01  1.120748e+06\n",
              "25%    5.713173e+06  1.487580e+18  2.050000e+00  4.700503e+08\n",
              "50%    5.809910e+06  1.487580e+18  3.970000e+00  5.422586e+08\n",
              "75%    5.854831e+06  1.487580e+18  6.920000e+00  5.673113e+08\n",
              "max    5.906760e+06  2.195085e+18  3.277800e+02  5.748861e+08"
            ],
            "text/html": [
              "\n",
              "  <div id=\"df-9662ee68-c97f-48c2-b14d-ecc0ce269b6b\">\n",
              "    <div class=\"colab-df-container\">\n",
              "      <div>\n",
              "<style scoped>\n",
              "    .dataframe tbody tr th:only-of-type {\n",
              "        vertical-align: middle;\n",
              "    }\n",
              "\n",
              "    .dataframe tbody tr th {\n",
              "        vertical-align: top;\n",
              "    }\n",
              "\n",
              "    .dataframe thead th {\n",
              "        text-align: right;\n",
              "    }\n",
              "</style>\n",
              "<table border=\"1\" class=\"dataframe\">\n",
              "  <thead>\n",
              "    <tr style=\"text-align: right;\">\n",
              "      <th></th>\n",
              "      <th>product_id</th>\n",
              "      <th>category_id</th>\n",
              "      <th>price</th>\n",
              "      <th>user_id</th>\n",
              "    </tr>\n",
              "  </thead>\n",
              "  <tbody>\n",
              "    <tr>\n",
              "      <th>count</th>\n",
              "      <td>2.885672e+06</td>\n",
              "      <td>2.885672e+06</td>\n",
              "      <td>2.885672e+06</td>\n",
              "      <td>2.885672e+06</td>\n",
              "    </tr>\n",
              "    <tr>\n",
              "      <th>mean</th>\n",
              "      <td>5.468771e+06</td>\n",
              "      <td>1.548688e+18</td>\n",
              "      <td>8.575782e+00</td>\n",
              "      <td>5.059585e+08</td>\n",
              "    </tr>\n",
              "    <tr>\n",
              "      <th>std</th>\n",
              "      <td>1.324060e+06</td>\n",
              "      <td>1.625181e+17</td>\n",
              "      <td>1.963559e+01</td>\n",
              "      <td>8.491599e+07</td>\n",
              "    </tr>\n",
              "    <tr>\n",
              "      <th>min</th>\n",
              "      <td>3.752000e+03</td>\n",
              "      <td>1.487580e+18</td>\n",
              "      <td>-7.937000e+01</td>\n",
              "      <td>1.120748e+06</td>\n",
              "    </tr>\n",
              "    <tr>\n",
              "      <th>25%</th>\n",
              "      <td>5.713173e+06</td>\n",
              "      <td>1.487580e+18</td>\n",
              "      <td>2.050000e+00</td>\n",
              "      <td>4.700503e+08</td>\n",
              "    </tr>\n",
              "    <tr>\n",
              "      <th>50%</th>\n",
              "      <td>5.809910e+06</td>\n",
              "      <td>1.487580e+18</td>\n",
              "      <td>3.970000e+00</td>\n",
              "      <td>5.422586e+08</td>\n",
              "    </tr>\n",
              "    <tr>\n",
              "      <th>75%</th>\n",
              "      <td>5.854831e+06</td>\n",
              "      <td>1.487580e+18</td>\n",
              "      <td>6.920000e+00</td>\n",
              "      <td>5.673113e+08</td>\n",
              "    </tr>\n",
              "    <tr>\n",
              "      <th>max</th>\n",
              "      <td>5.906760e+06</td>\n",
              "      <td>2.195085e+18</td>\n",
              "      <td>3.277800e+02</td>\n",
              "      <td>5.748861e+08</td>\n",
              "    </tr>\n",
              "  </tbody>\n",
              "</table>\n",
              "</div>\n",
              "      <button class=\"colab-df-convert\" onclick=\"convertToInteractive('df-9662ee68-c97f-48c2-b14d-ecc0ce269b6b')\"\n",
              "              title=\"Convert this dataframe to an interactive table.\"\n",
              "              style=\"display:none;\">\n",
              "        \n",
              "  <svg xmlns=\"http://www.w3.org/2000/svg\" height=\"24px\"viewBox=\"0 0 24 24\"\n",
              "       width=\"24px\">\n",
              "    <path d=\"M0 0h24v24H0V0z\" fill=\"none\"/>\n",
              "    <path d=\"M18.56 5.44l.94 2.06.94-2.06 2.06-.94-2.06-.94-.94-2.06-.94 2.06-2.06.94zm-11 1L8.5 8.5l.94-2.06 2.06-.94-2.06-.94L8.5 2.5l-.94 2.06-2.06.94zm10 10l.94 2.06.94-2.06 2.06-.94-2.06-.94-.94-2.06-.94 2.06-2.06.94z\"/><path d=\"M17.41 7.96l-1.37-1.37c-.4-.4-.92-.59-1.43-.59-.52 0-1.04.2-1.43.59L10.3 9.45l-7.72 7.72c-.78.78-.78 2.05 0 2.83L4 21.41c.39.39.9.59 1.41.59.51 0 1.02-.2 1.41-.59l7.78-7.78 2.81-2.81c.8-.78.8-2.07 0-2.86zM5.41 20L4 18.59l7.72-7.72 1.47 1.35L5.41 20z\"/>\n",
              "  </svg>\n",
              "      </button>\n",
              "      \n",
              "  <style>\n",
              "    .colab-df-container {\n",
              "      display:flex;\n",
              "      flex-wrap:wrap;\n",
              "      gap: 12px;\n",
              "    }\n",
              "\n",
              "    .colab-df-convert {\n",
              "      background-color: #E8F0FE;\n",
              "      border: none;\n",
              "      border-radius: 50%;\n",
              "      cursor: pointer;\n",
              "      display: none;\n",
              "      fill: #1967D2;\n",
              "      height: 32px;\n",
              "      padding: 0 0 0 0;\n",
              "      width: 32px;\n",
              "    }\n",
              "\n",
              "    .colab-df-convert:hover {\n",
              "      background-color: #E2EBFA;\n",
              "      box-shadow: 0px 1px 2px rgba(60, 64, 67, 0.3), 0px 1px 3px 1px rgba(60, 64, 67, 0.15);\n",
              "      fill: #174EA6;\n",
              "    }\n",
              "\n",
              "    [theme=dark] .colab-df-convert {\n",
              "      background-color: #3B4455;\n",
              "      fill: #D2E3FC;\n",
              "    }\n",
              "\n",
              "    [theme=dark] .colab-df-convert:hover {\n",
              "      background-color: #434B5C;\n",
              "      box-shadow: 0px 1px 3px 1px rgba(0, 0, 0, 0.15);\n",
              "      filter: drop-shadow(0px 1px 2px rgba(0, 0, 0, 0.3));\n",
              "      fill: #FFFFFF;\n",
              "    }\n",
              "  </style>\n",
              "\n",
              "      <script>\n",
              "        const buttonEl =\n",
              "          document.querySelector('#df-9662ee68-c97f-48c2-b14d-ecc0ce269b6b button.colab-df-convert');\n",
              "        buttonEl.style.display =\n",
              "          google.colab.kernel.accessAllowed ? 'block' : 'none';\n",
              "\n",
              "        async function convertToInteractive(key) {\n",
              "          const element = document.querySelector('#df-9662ee68-c97f-48c2-b14d-ecc0ce269b6b');\n",
              "          const dataTable =\n",
              "            await google.colab.kernel.invokeFunction('convertToInteractive',\n",
              "                                                     [key], {});\n",
              "          if (!dataTable) return;\n",
              "\n",
              "          const docLinkHtml = 'Like what you see? Visit the ' +\n",
              "            '<a target=\"_blank\" href=https://colab.research.google.com/notebooks/data_table.ipynb>data table notebook</a>'\n",
              "            + ' to learn more about interactive tables.';\n",
              "          element.innerHTML = '';\n",
              "          dataTable['output_type'] = 'display_data';\n",
              "          await google.colab.output.renderOutput(dataTable, element);\n",
              "          const docLink = document.createElement('div');\n",
              "          docLink.innerHTML = docLinkHtml;\n",
              "          element.appendChild(docLink);\n",
              "        }\n",
              "      </script>\n",
              "    </div>\n",
              "  </div>\n",
              "  "
            ]
          },
          "metadata": {},
          "execution_count": 27
        }
      ]
    },
    {
      "cell_type": "code",
      "source": [
        "# Verificando as dimensões do dataset\n",
        "df.shape"
      ],
      "metadata": {
        "id": "E3zbwBWQs0Su",
        "colab": {
          "base_uri": "https://localhost:8080/"
        },
        "outputId": "b5ae24df-0b8f-4440-b387-2f91361fb24a"
      },
      "execution_count": null,
      "outputs": [
        {
          "output_type": "execute_result",
          "data": {
            "text/plain": [
              "(3046385, 9)"
            ]
          },
          "metadata": {},
          "execution_count": 10
        }
      ]
    },
    {
      "cell_type": "markdown",
      "source": [
        "#**3.0 A Limpeza de Dados**\n"
      ],
      "metadata": {
        "id": "S-OB9vFe3ZBR"
      }
    },
    {
      "cell_type": "code",
      "source": [
        "#verificando o tipo dos dados\n",
        "df.dtypes"
      ],
      "metadata": {
        "id": "lpPkuOjKvkbl"
      },
      "execution_count": null,
      "outputs": []
    },
    {
      "cell_type": "code",
      "source": [
        "df['event_type'].unique()"
      ],
      "metadata": {
        "id": "XEt2Abtqvxpo"
      },
      "execution_count": null,
      "outputs": []
    },
    {
      "cell_type": "markdown",
      "source": [
        "Nesta primeira consulta de duplicadas, podemos ver que temos um total de 246693"
      ],
      "metadata": {
        "id": "05D3kr0WwWKf"
      }
    },
    {
      "cell_type": "code",
      "source": [
        "df.duplicated().sum()"
      ],
      "metadata": {
        "id": "heDUiuD9v2-B"
      },
      "execution_count": null,
      "outputs": []
    },
    {
      "cell_type": "code",
      "source": [
        "# Agrupar valores (user_session, event_type, product_id, event_time por user_session) para verificar se existem valores duplicados\n",
        "df.groupby(by=['user_session', 'event_type', 'product_id', 'event_time'])['user_session'].count().sort_values(ascending=False)"
      ],
      "metadata": {
        "id": "0bE_XpZIv8o1"
      },
      "execution_count": null,
      "outputs": []
    },
    {
      "cell_type": "code",
      "source": [
        "# Aplicando o tratamento das duplicadas\n",
        "df[['user_session', 'event_type', 'product_id', 'event_time']].drop_duplicates().shape"
      ],
      "metadata": {
        "id": "-w7wU2LtwGMQ"
      },
      "execution_count": null,
      "outputs": []
    },
    {
      "cell_type": "code",
      "source": [
        "df.drop_duplicates(inplace=True)"
      ],
      "metadata": {
        "id": "BbukZbKXwJyK"
      },
      "execution_count": null,
      "outputs": []
    },
    {
      "cell_type": "code",
      "source": [
        "df.shape"
      ],
      "metadata": {
        "id": "xZtmSqyIwKqC"
      },
      "execution_count": null,
      "outputs": []
    },
    {
      "cell_type": "markdown",
      "source": [
        "Podemos verificar que não temos mais duplicadas"
      ],
      "metadata": {
        "id": "lueZ2e59wj9e"
      }
    },
    {
      "cell_type": "code",
      "source": [
        "# Verificando duplicadas apos tratamento\n",
        "df.duplicated().sum()"
      ],
      "metadata": {
        "id": "EjxXRi3xwTXZ"
      },
      "execution_count": null,
      "outputs": []
    },
    {
      "cell_type": "code",
      "source": [
        "# Verificando os dados nulos\n",
        "df.isnull().sum()"
      ],
      "metadata": {
        "colab": {
          "base_uri": "https://localhost:8080/"
        },
        "id": "UxbXTYGz2eKv",
        "outputId": "1f03d0e8-7b3f-499e-df7f-d59c24af969e"
      },
      "execution_count": null,
      "outputs": [
        {
          "output_type": "execute_result",
          "data": {
            "text/plain": [
              "event_time             0\n",
              "event_type             1\n",
              "product_id             1\n",
              "category_id            1\n",
              "category_code    2996002\n",
              "brand            1307015\n",
              "price                  1\n",
              "user_id                1\n",
              "user_session         586\n",
              "dtype: int64"
            ]
          },
          "metadata": {},
          "execution_count": 11
        }
      ]
    },
    {
      "cell_type": "code",
      "source": [
        "# Excluindo colunas com muitas NULL\n",
        "df = df.drop(columns=['category_code', 'brand'])"
      ],
      "metadata": {
        "id": "8gjA7N2I6Hc0"
      },
      "execution_count": null,
      "outputs": []
    },
    {
      "cell_type": "markdown",
      "source": [
        "Podemos verificar que existem 2 colunas com um numero muito grande de NULL **category_code** e **brand**, assim impossibilitando o preenchimento, logo, a melhor opção foi excluir essas colunas"
      ],
      "metadata": {
        "id": "CYLyB1uE4DvI"
      }
    },
    {
      "cell_type": "code",
      "source": [
        "#excluindo dados duplicados\n",
        "df = df.drop_duplicates()"
      ],
      "metadata": {
        "id": "HdtsoKSCBmpM"
      },
      "execution_count": null,
      "outputs": []
    },
    {
      "cell_type": "code",
      "source": [
        "# Verificando se restaram valores duplicados\n",
        "df.duplicated().sum()"
      ],
      "metadata": {
        "colab": {
          "base_uri": "https://localhost:8080/"
        },
        "id": "uF0m74-jB3A-",
        "outputId": "dfe2b7c4-2b22-4d72-da6d-88461fa0be82"
      },
      "execution_count": null,
      "outputs": [
        {
          "output_type": "execute_result",
          "data": {
            "text/plain": [
              "0"
            ]
          },
          "metadata": {},
          "execution_count": 24
        }
      ]
    },
    {
      "cell_type": "code",
      "source": [
        "df.dtypes"
      ],
      "metadata": {
        "colab": {
          "base_uri": "https://localhost:8080/"
        },
        "id": "qRgYrtEe4mcH",
        "outputId": "50ccd6a4-0eb6-4997-a689-d2081bc994ba"
      },
      "execution_count": null,
      "outputs": [
        {
          "output_type": "execute_result",
          "data": {
            "text/plain": [
              "event_time        object\n",
              "event_type        object\n",
              "product_id       float64\n",
              "category_id      float64\n",
              "category_code     object\n",
              "brand             object\n",
              "price            float64\n",
              "user_id          float64\n",
              "user_session      object\n",
              "dtype: object"
            ]
          },
          "metadata": {},
          "execution_count": 29
        }
      ]
    },
    {
      "cell_type": "markdown",
      "source": [
        "Agora vamos fazer o tratamento da feature event_time, que está no formato object, vamos converter para datetime, para facilitar em futuras consultas."
      ],
      "metadata": {
        "id": "IaWKCcGWD9mz"
      }
    },
    {
      "cell_type": "code",
      "source": [
        "# utilizado para alterar o formato de object para datetime\n",
        "df['event_time']= pd.to_datetime(df['event_time'], format= '%Y-%m-%d %H:%M:%S UTC')"
      ],
      "metadata": {
        "id": "BWBF2xyI6hN2"
      },
      "execution_count": null,
      "outputs": []
    },
    {
      "cell_type": "code",
      "source": [
        "# Agora o fomato está correto\n",
        "df.dtypes"
      ],
      "metadata": {
        "id": "i9d3XepJzCk8"
      },
      "execution_count": null,
      "outputs": []
    },
    {
      "cell_type": "markdown",
      "source": [
        "tratamento da feature brand 'marcas'"
      ],
      "metadata": {
        "id": "sKA5hxj9z6RL"
      }
    },
    {
      "cell_type": "code",
      "source": [
        "df['brand'].value_counts()"
      ],
      "metadata": {
        "id": "Kvz1sdlAzYOa"
      },
      "execution_count": null,
      "outputs": []
    },
    {
      "cell_type": "code",
      "source": [
        "df['brand'].isna().value_counts()"
      ],
      "metadata": {
        "id": "PQ-jjSbU0vw7"
      },
      "execution_count": null,
      "outputs": []
    },
    {
      "cell_type": "code",
      "source": [
        "df.dropna(subset=['brand'], inplace=True)"
      ],
      "metadata": {
        "id": "-lTepAAy00zd"
      },
      "execution_count": null,
      "outputs": []
    },
    {
      "cell_type": "code",
      "source": [
        "df['brand'].isna().value_counts()"
      ],
      "metadata": {
        "id": "VjYtIG1506jz"
      },
      "execution_count": null,
      "outputs": []
    },
    {
      "cell_type": "markdown",
      "source": [
        "Tratamento de nulos da feature Price"
      ],
      "metadata": {
        "id": "-zZvuv3454q6"
      }
    },
    {
      "cell_type": "code",
      "source": [
        "df['price'].isna().value_counts()"
      ],
      "metadata": {
        "id": "5sUK5Aw45-OI"
      },
      "execution_count": null,
      "outputs": []
    },
    {
      "cell_type": "code",
      "source": [
        "# Calculando Quartis\n",
        "df.describe(percentiles=[0.01, 0.1, 0.25, 0.5, 0.75, 0.99])"
      ],
      "metadata": {
        "id": "9w3C6yc91AON"
      },
      "execution_count": null,
      "outputs": []
    },
    {
      "cell_type": "markdown",
      "source": [
        "Vamos calcular o IQR para ajudar no tratamento. \n",
        "IQR = Q3-Q1"
      ],
      "metadata": {
        "id": "Sdlc-ZTg6F1A"
      }
    },
    {
      "cell_type": "code",
      "source": [
        "Q3 = df['price'].quantile(0.75)\n",
        "Q1 = df['price'].quantile(0.25)\n",
        "IQR = Q3-Q1\n",
        "IQR"
      ],
      "metadata": {
        "id": "M-9ZyKcd0_8V"
      },
      "execution_count": null,
      "outputs": []
    },
    {
      "cell_type": "code",
      "source": [
        "lower_bound = Q1 - 1.5*IQR\n",
        "lower_bound"
      ],
      "metadata": {
        "id": "99er4yGQ6S2y"
      },
      "execution_count": null,
      "outputs": []
    },
    {
      "cell_type": "code",
      "source": [
        "upper_bound = Q3 + 1.5*IQR\n",
        "upper_bound"
      ],
      "metadata": {
        "id": "4ZNu0mnb6k2J"
      },
      "execution_count": null,
      "outputs": []
    },
    {
      "cell_type": "markdown",
      "source": [
        "Verificando nulos event_type"
      ],
      "metadata": {
        "id": "7livgTn37nlZ"
      }
    },
    {
      "cell_type": "code",
      "source": [
        "df['event_type'].isna().value_counts()"
      ],
      "metadata": {
        "id": "YZocKHE07l2s"
      },
      "execution_count": null,
      "outputs": []
    },
    {
      "cell_type": "code",
      "source": [
        "x = df['event_type'].value_counts().index\n",
        "x"
      ],
      "metadata": {
        "id": "WMksQwlP7s1_"
      },
      "execution_count": null,
      "outputs": []
    },
    {
      "cell_type": "code",
      "source": [
        "y = df['event_type'].value_counts()\n",
        "y"
      ],
      "metadata": {
        "id": "7pEk61_r7wQg"
      },
      "execution_count": null,
      "outputs": []
    },
    {
      "cell_type": "code",
      "source": [
        "plt.figure(figsize=(10,5))\n",
        "plt.title('Evento x Qnt')\n",
        "sns.barplot(x, y, saturation= 0.5, order=[ 'view', 'cart','remove_from_cart', 'purchase'], palette= 'pastel')"
      ],
      "metadata": {
        "id": "cakDN0Rz7UZo"
      },
      "execution_count": null,
      "outputs": []
    },
    {
      "cell_type": "markdown",
      "source": [
        "Verificando quais foram os itens mais vendidos"
      ],
      "metadata": {
        "id": "3rNi6sC1777a"
      }
    },
    {
      "cell_type": "code",
      "source": [
        "mais_vendidas = df['brand'].value_counts()[0:5]\n",
        "mais_vendidas"
      ],
      "metadata": {
        "id": "5Lzckjgv7_Vs"
      },
      "execution_count": null,
      "outputs": []
    },
    {
      "cell_type": "code",
      "source": [
        "mais_vendidas = pd.DataFrame(mais_vendidas).reset_index()"
      ],
      "metadata": {
        "id": "Ts_yy5gN8BS6"
      },
      "execution_count": null,
      "outputs": []
    },
    {
      "cell_type": "code",
      "source": [
        "mais_vendidas.head()"
      ],
      "metadata": {
        "id": "7y8z6WcQ8C7C"
      },
      "execution_count": null,
      "outputs": []
    },
    {
      "cell_type": "code",
      "source": [
        "# Plotando itens mais vendidos\n",
        "\n",
        "plt.figure(figsize=(10,5))\n",
        "plt.title('Mais vendidas')\n",
        "sns.barplot('index', 'brand', data= mais_vendidas)"
      ],
      "metadata": {
        "id": "PHfXqGXt8FOp"
      },
      "execution_count": null,
      "outputs": []
    }
  ]
}